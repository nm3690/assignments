{
 "cells": [
  {
   "cell_type": "markdown",
   "metadata": {},
   "source": [
    "1.2 Write a function filter_long_words() that takes a list of words and an integer n and returns\n",
    "the list of words that are longer than n."
   ]
  },
  {
   "cell_type": "code",
   "execution_count": 18,
   "metadata": {},
   "outputs": [
    {
     "name": "stdout",
     "output_type": "stream",
     "text": [
      "5\n",
      "['palash', 'ratnakala']\n"
     ]
    }
   ],
   "source": [
    "def filter_long_words(words,n):\n",
    "    m=[]\n",
    "    for i in words:\n",
    "        if len(i)>n:\n",
    "            m.append(i)\n",
    "    \n",
    "    return(m)\n",
    "words=[\"neha\",\"palash\",\"ratnakala\",\"dilip\"]\n",
    "n=int(input())\n",
    "print(filter_long_words(words,n))\n",
    "            "
   ]
  },
  {
   "cell_type": "markdown",
   "metadata": {},
   "source": [
    "2.1 Write a Python program using function concept that maps list of words into a list of integers\n",
    "representing the lengths of the corresponding words.\n",
    "Hint: If a list [ ab,cde,erty] is passed on to the python function output should come as [2,3,4]\n",
    "Here 2,3 and 4 are the lengths of the words in the list."
   ]
  },
  {
   "cell_type": "code",
   "execution_count": 27,
   "metadata": {},
   "outputs": [
    {
     "name": "stdout",
     "output_type": "stream",
     "text": [
      "[2, 3, 4]\n"
     ]
    }
   ],
   "source": [
    "def list(x):\n",
    "    m=[]\n",
    "    for i in x:\n",
    "        m.append(len(i))\n",
    "    return(m)\n",
    "x=['ab','cde','erty']\n",
    "print(list(x))\n",
    "    "
   ]
  },
  {
   "cell_type": "markdown",
   "metadata": {},
   "source": [
    "2.2 Write a Python function which takes a character (i.e. a string of length 1) and returns True if\n",
    "it is a vowel, False otherwise."
   ]
  },
  {
   "cell_type": "code",
   "execution_count": 44,
   "metadata": {},
   "outputs": [
    {
     "name": "stdout",
     "output_type": "stream",
     "text": [
      "animals\n",
      "true\n"
     ]
    }
   ],
   "source": [
    "def vowels(a,b):\n",
    "    for i in a:\n",
    "        for j in b:\n",
    "            if i!=j:\n",
    "                return(\"false\")\n",
    "            else:\n",
    "                return(\"true\")\n",
    "a=\"aeiou\"\n",
    "b=input()\n",
    "print(vowels(a,b))"
   ]
  }
 ],
 "metadata": {
  "kernelspec": {
   "display_name": "Python 3",
   "language": "python",
   "name": "python3"
  },
  "language_info": {
   "codemirror_mode": {
    "name": "ipython",
    "version": 3
   },
   "file_extension": ".py",
   "mimetype": "text/x-python",
   "name": "python",
   "nbconvert_exporter": "python",
   "pygments_lexer": "ipython3",
   "version": "3.8.3"
  }
 },
 "nbformat": 4,
 "nbformat_minor": 4
}
